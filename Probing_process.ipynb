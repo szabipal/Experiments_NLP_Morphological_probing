{
 "cells": [
  {
   "cell_type": "markdown",
   "id": "52b7429d",
   "metadata": {},
   "source": [
    "# Probing of the Hungarian markers"
   ]
  },
  {
   "cell_type": "code",
   "execution_count": 1,
   "id": "1261da0b-54ca-478e-bc37-a4a9f91002f4",
   "metadata": {
    "tags": []
   },
   "outputs": [],
   "source": [
    "import os"
   ]
  },
  {
   "cell_type": "code",
   "execution_count": 2,
   "id": "6238b412-fe1e-4470-a776-49e721476315",
   "metadata": {
    "tags": []
   },
   "outputs": [],
   "source": [
    "from utils import load_files_from_folder\n",
    "from utils import separate_target_and_non_target\n",
    "from utils import balance_and_create_layered_data\n",
    "from utils import run_probing_on_all_layers"
   ]
  },
  {
   "cell_type": "markdown",
   "id": "8bb1fa84-6f20-4843-a7be-c0bb8b5ae1d3",
   "metadata": {},
   "source": [
    "# Reading in the full representations for each marker"
   ]
  },
  {
   "cell_type": "code",
   "execution_count": 3,
   "id": "f829f565-bbe9-47bf-ac6f-b5f3a1049559",
   "metadata": {
    "tags": []
   },
   "outputs": [],
   "source": [
    "paths='Full_data/'"
   ]
  },
  {
   "cell_type": "code",
   "execution_count": 4,
   "id": "c80f1e23-d9e3-4254-ad09-f7b05eb8a8f2",
   "metadata": {
    "tags": []
   },
   "outputs": [],
   "source": [
    "markers=['Accusative',\n",
    "         'Causal_final', \n",
    "         'Dative', \n",
    "         'Genitive',\n",
    "         'Plural',\n",
    "         'Sublative',\n",
    "         'Translative',\n",
    "         'VerbConjugation']"
   ]
  },
  {
   "cell_type": "code",
   "execution_count": 5,
   "id": "eebc693e-785a-4896-a3b0-4e3064a151e9",
   "metadata": {
    "tags": []
   },
   "outputs": [
    {
     "name": "stdout",
     "output_type": "stream",
     "text": [
      "8\n",
      "Marker: Accusative, Type: <class 'pandas.core.frame.DataFrame'>\n",
      "Marker: Causal_final, Type: <class 'pandas.core.frame.DataFrame'>\n",
      "Marker: Dative, Type: <class 'pandas.core.frame.DataFrame'>\n",
      "Marker: Genitive, Type: <class 'pandas.core.frame.DataFrame'>\n",
      "Marker: Plural, Type: <class 'pandas.core.frame.DataFrame'>\n",
      "Marker: Sublative, Type: <class 'pandas.core.frame.DataFrame'>\n",
      "Marker: Translative, Type: <class 'pandas.core.frame.DataFrame'>\n",
      "Marker: VerbConjugation, Type: <class 'pandas.core.frame.DataFrame'>\n"
     ]
    }
   ],
   "source": [
    "representations={}\n",
    "for item in markers:\n",
    "    path=paths+item+'/'\n",
    "    df=load_files_from_folder(path)\n",
    "    representations[item]=df\n",
    "print(len(representations))\n",
    "for item, df_list in representations.items():\n",
    "    print(f\"Marker: {item}, Type: {type(df_list)}\")"
   ]
  },
  {
   "cell_type": "markdown",
   "id": "1bc96d7e-13b7-4e92-81f1-a9dec232a0b8",
   "metadata": {
    "tags": []
   },
   "source": [
    "# Sampling for probe training"
   ]
  },
  {
   "cell_type": "code",
   "execution_count": 6,
   "id": "967bae39-d194-477e-9f50-d2bb17bb5e3a",
   "metadata": {
    "tags": []
   },
   "outputs": [
    {
     "name": "stdout",
     "output_type": "stream",
     "text": [
      "         Word      Lemma                                           Sentence  \\\n",
      "0   feladatot    feladat  Át tudnak alakulni más , speciális feladatot v...   \n",
      "1  indikációt  indikáció  16 esetben reflux , 25 esetben hiatus hernia ,...   \n",
      "2    Ismételt   ismételt  Ismételt önellenőrzést a borítólap Bevallás je...   \n",
      "3      helyet       hely  A Samsung egy újabb mérföldkőhöz érkezett , ug...   \n",
      "4     jövőjét       jövő  A fiatal szerelmesek jól kiegészítik egymást ,...   \n",
      "\n",
      "                 Hidden Representations (All Layers)  Accusative  Genitive  \\\n",
      "0  [[-0.18448642, 1.6608313, -0.35790092, -0.7855...           1         0   \n",
      "1  [[-0.8574144, -0.16093159, -1.624177, -1.03128...           1         0   \n",
      "2  [[0.9292797, -0.3025536, -0.002210027, -0.0634...           1         0   \n",
      "3  [[0.89660025, 0.23665626, -0.5521834, -0.22853...           1         0   \n",
      "4  [[-0.41878316, -1.45154, 0.43413603, -1.168426...           1         0   \n",
      "\n",
      "   Dative  Sublative  CausalFinal  Translative  Plural  VerbConjugation  \n",
      "0       0          0            0            0       0                0  \n",
      "1       0          0            0            0       0                0  \n",
      "2       0          0            0            0       0                0  \n",
      "3       0          0            0            0       0                0  \n",
      "4       0          0            0            0       0                0  \n"
     ]
    }
   ],
   "source": [
    "print(representations['Accusative'][:5])"
   ]
  },
  {
   "cell_type": "code",
   "execution_count": 7,
   "id": "d776ce0d-a540-4b82-a5a6-94f2db6ce7cf",
   "metadata": {
    "tags": []
   },
   "outputs": [
    {
     "name": "stdout",
     "output_type": "stream",
     "text": [
      "Layer 1 representations saved for train and eval datasets in 'Layered_data/Accusative/1'.\n",
      "Layer 2 representations saved for train and eval datasets in 'Layered_data/Accusative/2'.\n",
      "Layer 3 representations saved for train and eval datasets in 'Layered_data/Accusative/3'.\n",
      "Layer 4 representations saved for train and eval datasets in 'Layered_data/Accusative/4'.\n",
      "Layer 5 representations saved for train and eval datasets in 'Layered_data/Accusative/5'.\n",
      "Layer 6 representations saved for train and eval datasets in 'Layered_data/Accusative/6'.\n",
      "Layer 7 representations saved for train and eval datasets in 'Layered_data/Accusative/7'.\n",
      "Layer 8 representations saved for train and eval datasets in 'Layered_data/Accusative/8'.\n",
      "Layer 9 representations saved for train and eval datasets in 'Layered_data/Accusative/9'.\n",
      "Layer 10 representations saved for train and eval datasets in 'Layered_data/Accusative/10'.\n",
      "Layer 11 representations saved for train and eval datasets in 'Layered_data/Accusative/11'.\n",
      "Layer 12 representations saved for train and eval datasets in 'Layered_data/Accusative/12'.\n",
      "Layer 1 representations saved for train and eval datasets in 'Layered_data/Causal_final/1'.\n",
      "Layer 2 representations saved for train and eval datasets in 'Layered_data/Causal_final/2'.\n",
      "Layer 3 representations saved for train and eval datasets in 'Layered_data/Causal_final/3'.\n",
      "Layer 4 representations saved for train and eval datasets in 'Layered_data/Causal_final/4'.\n",
      "Layer 5 representations saved for train and eval datasets in 'Layered_data/Causal_final/5'.\n",
      "Layer 6 representations saved for train and eval datasets in 'Layered_data/Causal_final/6'.\n",
      "Layer 7 representations saved for train and eval datasets in 'Layered_data/Causal_final/7'.\n",
      "Layer 8 representations saved for train and eval datasets in 'Layered_data/Causal_final/8'.\n",
      "Layer 9 representations saved for train and eval datasets in 'Layered_data/Causal_final/9'.\n",
      "Layer 10 representations saved for train and eval datasets in 'Layered_data/Causal_final/10'.\n",
      "Layer 11 representations saved for train and eval datasets in 'Layered_data/Causal_final/11'.\n",
      "Layer 12 representations saved for train and eval datasets in 'Layered_data/Causal_final/12'.\n",
      "Layer 1 representations saved for train and eval datasets in 'Layered_data/Dative/1'.\n",
      "Layer 2 representations saved for train and eval datasets in 'Layered_data/Dative/2'.\n",
      "Layer 3 representations saved for train and eval datasets in 'Layered_data/Dative/3'.\n",
      "Layer 4 representations saved for train and eval datasets in 'Layered_data/Dative/4'.\n",
      "Layer 5 representations saved for train and eval datasets in 'Layered_data/Dative/5'.\n",
      "Layer 6 representations saved for train and eval datasets in 'Layered_data/Dative/6'.\n",
      "Layer 7 representations saved for train and eval datasets in 'Layered_data/Dative/7'.\n",
      "Layer 8 representations saved for train and eval datasets in 'Layered_data/Dative/8'.\n",
      "Layer 9 representations saved for train and eval datasets in 'Layered_data/Dative/9'.\n",
      "Layer 10 representations saved for train and eval datasets in 'Layered_data/Dative/10'.\n",
      "Layer 11 representations saved for train and eval datasets in 'Layered_data/Dative/11'.\n",
      "Layer 12 representations saved for train and eval datasets in 'Layered_data/Dative/12'.\n",
      "Layer 1 representations saved for train and eval datasets in 'Layered_data/Genitive/1'.\n",
      "Layer 2 representations saved for train and eval datasets in 'Layered_data/Genitive/2'.\n",
      "Layer 3 representations saved for train and eval datasets in 'Layered_data/Genitive/3'.\n",
      "Layer 4 representations saved for train and eval datasets in 'Layered_data/Genitive/4'.\n",
      "Layer 5 representations saved for train and eval datasets in 'Layered_data/Genitive/5'.\n",
      "Layer 6 representations saved for train and eval datasets in 'Layered_data/Genitive/6'.\n",
      "Layer 7 representations saved for train and eval datasets in 'Layered_data/Genitive/7'.\n",
      "Layer 8 representations saved for train and eval datasets in 'Layered_data/Genitive/8'.\n",
      "Layer 9 representations saved for train and eval datasets in 'Layered_data/Genitive/9'.\n",
      "Layer 10 representations saved for train and eval datasets in 'Layered_data/Genitive/10'.\n",
      "Layer 11 representations saved for train and eval datasets in 'Layered_data/Genitive/11'.\n",
      "Layer 12 representations saved for train and eval datasets in 'Layered_data/Genitive/12'.\n",
      "Layer 1 representations saved for train and eval datasets in 'Layered_data/Plural/1'.\n",
      "Layer 2 representations saved for train and eval datasets in 'Layered_data/Plural/2'.\n",
      "Layer 3 representations saved for train and eval datasets in 'Layered_data/Plural/3'.\n",
      "Layer 4 representations saved for train and eval datasets in 'Layered_data/Plural/4'.\n",
      "Layer 5 representations saved for train and eval datasets in 'Layered_data/Plural/5'.\n",
      "Layer 6 representations saved for train and eval datasets in 'Layered_data/Plural/6'.\n",
      "Layer 7 representations saved for train and eval datasets in 'Layered_data/Plural/7'.\n",
      "Layer 8 representations saved for train and eval datasets in 'Layered_data/Plural/8'.\n",
      "Layer 9 representations saved for train and eval datasets in 'Layered_data/Plural/9'.\n",
      "Layer 10 representations saved for train and eval datasets in 'Layered_data/Plural/10'.\n",
      "Layer 11 representations saved for train and eval datasets in 'Layered_data/Plural/11'.\n",
      "Layer 12 representations saved for train and eval datasets in 'Layered_data/Plural/12'.\n",
      "Layer 1 representations saved for train and eval datasets in 'Layered_data/Sublative/1'.\n",
      "Layer 2 representations saved for train and eval datasets in 'Layered_data/Sublative/2'.\n",
      "Layer 3 representations saved for train and eval datasets in 'Layered_data/Sublative/3'.\n",
      "Layer 4 representations saved for train and eval datasets in 'Layered_data/Sublative/4'.\n",
      "Layer 5 representations saved for train and eval datasets in 'Layered_data/Sublative/5'.\n",
      "Layer 6 representations saved for train and eval datasets in 'Layered_data/Sublative/6'.\n",
      "Layer 7 representations saved for train and eval datasets in 'Layered_data/Sublative/7'.\n",
      "Layer 8 representations saved for train and eval datasets in 'Layered_data/Sublative/8'.\n",
      "Layer 9 representations saved for train and eval datasets in 'Layered_data/Sublative/9'.\n",
      "Layer 10 representations saved for train and eval datasets in 'Layered_data/Sublative/10'.\n",
      "Layer 11 representations saved for train and eval datasets in 'Layered_data/Sublative/11'.\n",
      "Layer 12 representations saved for train and eval datasets in 'Layered_data/Sublative/12'.\n",
      "Layer 1 representations saved for train and eval datasets in 'Layered_data/Translative/1'.\n",
      "Layer 2 representations saved for train and eval datasets in 'Layered_data/Translative/2'.\n",
      "Layer 3 representations saved for train and eval datasets in 'Layered_data/Translative/3'.\n",
      "Layer 4 representations saved for train and eval datasets in 'Layered_data/Translative/4'.\n",
      "Layer 5 representations saved for train and eval datasets in 'Layered_data/Translative/5'.\n",
      "Layer 6 representations saved for train and eval datasets in 'Layered_data/Translative/6'.\n",
      "Layer 7 representations saved for train and eval datasets in 'Layered_data/Translative/7'.\n",
      "Layer 8 representations saved for train and eval datasets in 'Layered_data/Translative/8'.\n",
      "Layer 9 representations saved for train and eval datasets in 'Layered_data/Translative/9'.\n",
      "Layer 10 representations saved for train and eval datasets in 'Layered_data/Translative/10'.\n",
      "Layer 11 representations saved for train and eval datasets in 'Layered_data/Translative/11'.\n",
      "Layer 12 representations saved for train and eval datasets in 'Layered_data/Translative/12'.\n",
      "Layer 1 representations saved for train and eval datasets in 'Layered_data/VerbConjugation/1'.\n",
      "Layer 2 representations saved for train and eval datasets in 'Layered_data/VerbConjugation/2'.\n",
      "Layer 3 representations saved for train and eval datasets in 'Layered_data/VerbConjugation/3'.\n",
      "Layer 4 representations saved for train and eval datasets in 'Layered_data/VerbConjugation/4'.\n",
      "Layer 5 representations saved for train and eval datasets in 'Layered_data/VerbConjugation/5'.\n",
      "Layer 6 representations saved for train and eval datasets in 'Layered_data/VerbConjugation/6'.\n",
      "Layer 7 representations saved for train and eval datasets in 'Layered_data/VerbConjugation/7'.\n",
      "Layer 8 representations saved for train and eval datasets in 'Layered_data/VerbConjugation/8'.\n",
      "Layer 9 representations saved for train and eval datasets in 'Layered_data/VerbConjugation/9'.\n",
      "Layer 10 representations saved for train and eval datasets in 'Layered_data/VerbConjugation/10'.\n",
      "Layer 11 representations saved for train and eval datasets in 'Layered_data/VerbConjugation/11'.\n",
      "Layer 12 representations saved for train and eval datasets in 'Layered_data/VerbConjugation/12'.\n"
     ]
    }
   ],
   "source": [
    "for target_marker in markers:\n",
    "    target_reps, non_target_reps=separate_target_and_non_target(representations, target_marker)\n",
    "    balance_and_create_layered_data(target_reps, non_target_reps, target_marker, layered_data_folder='Layered_data', target_threshold=200, eval_split=0.15)"
   ]
  },
  {
   "cell_type": "code",
   "execution_count": 8,
   "id": "75626201-9033-4256-8c01-83df131c29c3",
   "metadata": {
    "tags": []
   },
   "outputs": [
    {
     "name": "stdout",
     "output_type": "stream",
     "text": [
      "Processing marker: Accusative\n"
     ]
    },
    {
     "name": "stderr",
     "output_type": "stream",
     "text": [
      "/Users/g/Documents/School_stuff/Master/Experiments_NLP/probing_resources/utils.py:569: FutureWarning: The behavior of DataFrame concatenation with empty or all-NA entries is deprecated. In a future version, this will no longer exclude empty or all-NA columns when determining the result dtypes. To retain the old behavior, exclude the relevant entries before the concat operation.\n",
      "  cumulative_results_df = pd.concat([cumulative_results_df, pd.DataFrame([{\n"
     ]
    },
    {
     "name": "stdout",
     "output_type": "stream",
     "text": [
      "Cumulative results for all layers of Accusative saved to Output_comparison/Accusative/Accusative_results.csv\n",
      "Processing marker: Plural\n"
     ]
    },
    {
     "name": "stderr",
     "output_type": "stream",
     "text": [
      "/Users/g/Documents/School_stuff/Master/Experiments_NLP/probing_resources/utils.py:569: FutureWarning: The behavior of DataFrame concatenation with empty or all-NA entries is deprecated. In a future version, this will no longer exclude empty or all-NA columns when determining the result dtypes. To retain the old behavior, exclude the relevant entries before the concat operation.\n",
      "  cumulative_results_df = pd.concat([cumulative_results_df, pd.DataFrame([{\n"
     ]
    },
    {
     "name": "stdout",
     "output_type": "stream",
     "text": [
      "Cumulative results for all layers of Plural saved to Output_comparison/Plural/Plural_results.csv\n",
      "Processing marker: Translative\n"
     ]
    },
    {
     "name": "stderr",
     "output_type": "stream",
     "text": [
      "/Users/g/Documents/School_stuff/Master/Experiments_NLP/probing_resources/utils.py:569: FutureWarning: The behavior of DataFrame concatenation with empty or all-NA entries is deprecated. In a future version, this will no longer exclude empty or all-NA columns when determining the result dtypes. To retain the old behavior, exclude the relevant entries before the concat operation.\n",
      "  cumulative_results_df = pd.concat([cumulative_results_df, pd.DataFrame([{\n",
      "/Users/g/anaconda3/lib/python3.11/site-packages/sklearn/metrics/_classification.py:1469: UndefinedMetricWarning: Precision is ill-defined and being set to 0.0 due to no predicted samples. Use `zero_division` parameter to control this behavior.\n",
      "  _warn_prf(average, modifier, msg_start, len(result))\n"
     ]
    },
    {
     "name": "stdout",
     "output_type": "stream",
     "text": [
      "Cumulative results for all layers of Translative saved to Output_comparison/Translative/Translative_results.csv\n",
      "Processing marker: Dative\n"
     ]
    },
    {
     "name": "stderr",
     "output_type": "stream",
     "text": [
      "/Users/g/Documents/School_stuff/Master/Experiments_NLP/probing_resources/utils.py:569: FutureWarning: The behavior of DataFrame concatenation with empty or all-NA entries is deprecated. In a future version, this will no longer exclude empty or all-NA columns when determining the result dtypes. To retain the old behavior, exclude the relevant entries before the concat operation.\n",
      "  cumulative_results_df = pd.concat([cumulative_results_df, pd.DataFrame([{\n"
     ]
    },
    {
     "name": "stdout",
     "output_type": "stream",
     "text": [
      "Cumulative results for all layers of Dative saved to Output_comparison/Dative/Dative_results.csv\n",
      "Processing marker: Causal_final\n"
     ]
    },
    {
     "name": "stderr",
     "output_type": "stream",
     "text": [
      "/Users/g/Documents/School_stuff/Master/Experiments_NLP/probing_resources/utils.py:569: FutureWarning: The behavior of DataFrame concatenation with empty or all-NA entries is deprecated. In a future version, this will no longer exclude empty or all-NA columns when determining the result dtypes. To retain the old behavior, exclude the relevant entries before the concat operation.\n",
      "  cumulative_results_df = pd.concat([cumulative_results_df, pd.DataFrame([{\n"
     ]
    },
    {
     "name": "stdout",
     "output_type": "stream",
     "text": [
      "Cumulative results for all layers of Causal_final saved to Output_comparison/Causal_final/Causal_final_results.csv\n",
      "Processing marker: Sublative\n"
     ]
    },
    {
     "name": "stderr",
     "output_type": "stream",
     "text": [
      "/Users/g/Documents/School_stuff/Master/Experiments_NLP/probing_resources/utils.py:569: FutureWarning: The behavior of DataFrame concatenation with empty or all-NA entries is deprecated. In a future version, this will no longer exclude empty or all-NA columns when determining the result dtypes. To retain the old behavior, exclude the relevant entries before the concat operation.\n",
      "  cumulative_results_df = pd.concat([cumulative_results_df, pd.DataFrame([{\n"
     ]
    },
    {
     "name": "stdout",
     "output_type": "stream",
     "text": [
      "Cumulative results for all layers of Sublative saved to Output_comparison/Sublative/Sublative_results.csv\n",
      "Processing marker: VerbConjugation\n"
     ]
    },
    {
     "name": "stderr",
     "output_type": "stream",
     "text": [
      "/Users/g/Documents/School_stuff/Master/Experiments_NLP/probing_resources/utils.py:569: FutureWarning: The behavior of DataFrame concatenation with empty or all-NA entries is deprecated. In a future version, this will no longer exclude empty or all-NA columns when determining the result dtypes. To retain the old behavior, exclude the relevant entries before the concat operation.\n",
      "  cumulative_results_df = pd.concat([cumulative_results_df, pd.DataFrame([{\n"
     ]
    },
    {
     "name": "stdout",
     "output_type": "stream",
     "text": [
      "Cumulative results for all layers of VerbConjugation saved to Output_comparison/VerbConjugation/VerbConjugation_results.csv\n",
      "Processing marker: Genitive\n"
     ]
    },
    {
     "name": "stderr",
     "output_type": "stream",
     "text": [
      "/Users/g/Documents/School_stuff/Master/Experiments_NLP/probing_resources/utils.py:569: FutureWarning: The behavior of DataFrame concatenation with empty or all-NA entries is deprecated. In a future version, this will no longer exclude empty or all-NA columns when determining the result dtypes. To retain the old behavior, exclude the relevant entries before the concat operation.\n",
      "  cumulative_results_df = pd.concat([cumulative_results_df, pd.DataFrame([{\n"
     ]
    },
    {
     "name": "stdout",
     "output_type": "stream",
     "text": [
      "Cumulative results for all layers of Genitive saved to Output_comparison/Genitive/Genitive_results.csv\n"
     ]
    }
   ],
   "source": [
    "run_probing_on_all_layers(layered_data_folder='Layered_data', output_folder='Output_comparison')"
   ]
  },
  {
   "cell_type": "code",
   "execution_count": null,
   "id": "d737f1db-6330-4ca4-abb3-f2dd9a09c612",
   "metadata": {},
   "outputs": [],
   "source": []
  },
  {
   "cell_type": "code",
   "execution_count": null,
   "id": "57069c53-943e-4060-b538-ff89faf801e4",
   "metadata": {},
   "outputs": [],
   "source": []
  },
  {
   "cell_type": "code",
   "execution_count": null,
   "id": "d7aabf71-d893-41e5-8ead-0e12350c9bc6",
   "metadata": {},
   "outputs": [],
   "source": []
  }
 ],
 "metadata": {
  "kernelspec": {
   "display_name": "Python 3 (ipykernel)",
   "language": "python",
   "name": "python3"
  },
  "language_info": {
   "codemirror_mode": {
    "name": "ipython",
    "version": 3
   },
   "file_extension": ".py",
   "mimetype": "text/x-python",
   "name": "python",
   "nbconvert_exporter": "python",
   "pygments_lexer": "ipython3",
   "version": "3.11.5"
  }
 },
 "nbformat": 4,
 "nbformat_minor": 5
}
